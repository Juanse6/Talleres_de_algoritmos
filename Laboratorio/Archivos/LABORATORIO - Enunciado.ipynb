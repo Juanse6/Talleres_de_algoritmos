{
 "cells": [
  {
   "cell_type": "markdown",
   "metadata": {},
   "source": [
    "# Laboratorio 1"
   ]
  },
  {
   "cell_type": "markdown",
   "metadata": {},
   "source": [
    "## Desarrollo de una herramienta analítica usando recursos nativos de Python"
   ]
  },
  {
   "cell_type": "markdown",
   "metadata": {},
   "source": [
    "Para el desarrollo de esta actividad debes utilizar únicamente recursos nativos de Python (puedes usar librerías como `math` y `random`). Está prohibido el uso de librerías externas, a excepción de `matplotlib`. Te recomendamos leer por completo el enunciado del laboratorio antes de comenzar, de forma que tengas claro el propósito global de la actividad y puedas desarrollar tu solución apuntando a él desde el inicio."
   ]
  },
  {
   "cell_type": "markdown",
   "metadata": {},
   "source": [
    "En algunas de las misiones encontrarás: una **versión base**, la cual indica el requerimiento mínimo de la misión; una **versión completa**, la cual indica mejoras deseables o complementos a la **versión base**. Un desarrollo aceptable del laboratorio debe satisfacer la **versión base** y un desarrollo correcto del laboratorio debe satisfacer la **versión completa**. Cumplir con el desarrollo de la **versión completa** desde un inicio hará más sencillas las misiones siguientes."
   ]
  },
  {
   "cell_type": "markdown",
   "metadata": {},
   "source": [
    "Al desarrollar este laboratorio pondrás a prueba tus habilidades para:\n",
    "\n",
    "1. Identificar y abordar preguntas de negocio y de *analytics*.\n",
    "2. Leer datos desde archivos y almacenarlos en estructuras de Python.\n",
    "3. Crear y llamar funciones.\n",
    "4. Implementar condicionales diferenciando `if`, `elif` y `else`.\n",
    "5. Implementar ciclos diferenciando el propósito de `for` y `while`."
   ]
  },
  {
   "cell_type": "markdown",
   "metadata": {},
   "source": [
    "## Contexto: exploración del potencial para asignar becas Unialpes"
   ]
  },
  {
   "cell_type": "markdown",
   "metadata": {},
   "source": [
    "La Universidad ean se ha caracterizado por su compromiso con la generación de impacto en la sociedad a través de diferentes programas de becas. Programas como Becas para los Mejores, entre otros, han sido revolucionarios al permitir que estudiantes de bajos recursos puedan acceder a una de las universidades más prestigiosas del país."
   ]
  },
  {
   "cell_type": "markdown",
   "metadata": {},
   "source": [
    "Actualmente, la universidad quiere evaluar el potencial impacto que tendrían algunos programas de acción afirmativa para asignación de becas, con base en información demográfica que ha obtenido a través de encuestas a personas interesadas en becas. Se cuenta con información respecto a la edad, género, estado civil, estrato socioeconómico, región de proveniencia, desempeño académico y nivel de escolaridad de las personas encuestadas. Los encargados de diseñar el programa saben que utilizar criterios basados en este tipo de variables es un tema sensible, pero es necesario si se quieren focalizar las oportunidades en poblaciones menos representadas."
   ]
  },
  {
   "cell_type": "markdown",
   "metadata": {},
   "source": [
    "El objetivo de este laboratorio es crear una herramienta computacional que permita a un tomador de decisiones explorar qué efecto podría tener el uso de diferentes reglas para seleccionar a los beneficiarios de las becas. Puntualmente, se espera que, para distintas reglas de selección (ej., pertenecer a cierta región, rango de edad, etc.), la herramienta ofrezca una caracterización de los potenciales beneficiarios de las becas (a partir de estadísticas descriptivas y visualizaciones), de forma que exista un sustento para elegir la regla de selección adecuada."
   ]
  },
  {
   "cell_type": "markdown",
   "metadata": {},
   "source": [
    "## Fase 1: obtener e inspeccionar archivos"
   ]
  },
  {
   "cell_type": "markdown",
   "metadata": {},
   "source": [
    "Los datos de encuestas fueron obtenidos como parte de un trabajo de campo y, por limitaciones tecnológicas, solo se cuenta con la información en archivos de texto plano (`.txt`). Cada archivo corresponde a uno de los atributos antes mencionados y están estructurados de forma que todos relacionan a las personas encuestadas en el mismo orden (i.e., en cada archivo la primera línea corresponde a un dato de la primera persona encuestada, la segunda línea corresponde a un dato de la segunda persona encuestada, etc.)."
   ]
  },
  {
   "cell_type": "markdown",
   "metadata": {},
   "source": [
    "Los archivos con los que cuentas son:\n",
    "\n",
    "* `\"edad.txt\"`: un archivo con la edad de cada persona encuestada;\n",
    "* `\"escolaridad.txt\"`: un archivo con el nivel de escolaridad de cada persona encuestada;\n",
    "* `\"estado_civil.txt\"`: un archivo con el estado civil de cada persona encuestada;\n",
    "* `\"estrato.txt\"`: un archivo con el estrato socioeconómico de cada persona encuestada;\n",
    "* `\"genero.txt\"`: un archivo con el género de cada persona encuestada;\n",
    "* `\"promedio.txt\"`: un archivo con el promedio académico de cada persona encuestada;\n",
    "* `\"region.txt\"`: un archivo con la región de proveniencia de cada persona encuestada."
   ]
  },
  {
   "cell_type": "markdown",
   "metadata": {},
   "source": [
    "### Misión 1"
   ]
  },
  {
   "cell_type": "markdown",
   "metadata": {},
   "source": [
    "**Versión base**: utiliza métodos de lectura de archivos para guardar la información de cada archivo en una estructura de datos de Python, de manera que se respete el orden y la categoría de los datos."
   ]
  },
  {
   "cell_type": "markdown",
   "metadata": {},
   "source": [
    "**Versión completa**: escribe una función que sea capaz de ejecutar la **versión base** y llámala dentro de un ciclo para automatizar la lectura de los archivos."
   ]
  },
  {
   "cell_type": "code",
   "execution_count": null,
   "metadata": {},
   "outputs": [
    {
     "ename": "",
     "evalue": "",
     "output_type": "error",
     "traceback": [
      "\u001b[1;31mLa ejecución de celdas con 'Python 3.10.5 64-bit' requieren el paquete ipykernel.\n",
      "\u001b[1;31mEjecute el siguiente comando para instalar 'ipykernel' en el entorno de Python. comando \n",
      "\u001b[1;31m: 'c:/Users/twonp/AppData/Local/Programs/Python/Python310/python.exe -m pip install ipykernel -U --user --force-reinstall'"
     ]
    }
   ],
   "source": [
    "edad=open(\"./Archivos/edad.txt\",\"r\",encoding=\"UTF-8\")\n",
    "escolaridad=open(\"./Archivos/escolaridad.txt\",\"r\",encoding=\"UTF-8\")\n",
    "estado=open(\"./Archivos/estado_civil.txt\",\"r\",encoding=\"UTF-8\")\n",
    "estrato=open(\"./Archivos/estrato.txt\",\"r\",encoding=\"UTF-8\")\n",
    "genero=open(\"./Archivos/genero.txt\",\"r\",encoding=\"UTF-8\")\n",
    "promedio=open(\"./Archivos/promedio.txt\",\"r\",encoding=\"UTF-8\")\n",
    "region=open(\"./Archivos/region.txt\",\"r\",encoding=\"UTF-8\")\n",
    "\n",
    "lt=[]\n",
    "t=(edad,escolaridad,estado,estrato,genero,promedio,region)\n",
    "n=0\n",
    "\n",
    "for x in range(1,501):\n",
    "    for n in range(0,7):\n",
    "        for y in (t[n]):\n",
    "            lt.append(y.strip())\n",
    "            break\n",
    "\n",
    "x=[]\n",
    "c=0\n",
    "while(c<=500):\n",
    "    c+=1\n",
    "\n",
    "    for i in lt[0:7]:\n",
    "        lt[0]=int(lt[0])\n",
    "        lt[3]=int(lt[3])\n",
    "        lt[5]=float(lt[5])\n",
    "        \n",
    "\n",
    "    t1=(c,lt[0],lt[1],lt[2],lt[3],lt[4],lt[5],lt[6])\n",
    "    x.append(t1)\n",
    "\n",
    "    \n",
    "    lt.pop(0)\n",
    "    lt.pop(0)\n",
    "    lt.pop(0)\n",
    "    lt.pop(0)\n",
    "    lt.pop(0)\n",
    "    lt.pop(0)\n",
    "    lt.pop(0)\n",
    "\n",
    "    if(c==500):\n",
    "        break\n",
    "\n",
    "\n",
    "\n",
    "\n",
    "print(x)\n"
   ]
  },
  {
   "cell_type": "markdown",
   "metadata": {},
   "source": [
    "### Misión 2"
   ]
  },
  {
   "cell_type": "markdown",
   "metadata": {},
   "source": [
    "**Versión base**: calcula estadísticas descriptivas básicas (por lo menos, media/mediana y varianza/desviación) para cada variable relevante en el contexto del problema y repórtalas concluyendo acerca de las principales características de los datos."
   ]
  },
  {
   "cell_type": "markdown",
   "metadata": {},
   "source": [
    "**Versión completa**: complementa la **versión base** con visualizaciones informativas sobre los datos (ej., histogramas, gráficos de dispersión, boxplots, etc.), relevantes para el problema."
   ]
  },
  {
   "cell_type": "code",
   "execution_count": null,
   "metadata": {},
   "outputs": [
    {
     "name": "stdout",
     "output_type": "stream",
     "text": [
      "\n",
      "Numero de filas = 500\n",
      "promedio = 48.748\n",
      "mediana = 49.0\n",
      "varianza = 345.76849599999997\n",
      "desviacion estandar = 18.59485133040864\n",
      "rango = 62 \n",
      "Edad None\n",
      "\n",
      "Numero de filas = 500\n",
      "promedio = 2.308\n",
      "mediana = 25.5\n",
      "varianza = 0.9531359999999962\n",
      "desviacion estandar = 0.9762868430947926\n",
      "rango = 4 \n",
      "Estrato None\n",
      "\n",
      "Numero de filas = 500\n",
      "promedio = 2.6212000000000004\n",
      "mediana = 25.85\n",
      "varianza = 1.2452705600000027\n",
      "desviacion estandar = 1.1159169144698913\n",
      "rango = 5.0 \n",
      "promedio None\n"
     ]
    },
    {
     "ename": "AttributeError",
     "evalue": "module 'matplotlib' has no attribute 'hist'",
     "output_type": "error",
     "traceback": [
      "\u001b[0;31m---------------------------------------------------------------------------\u001b[0m",
      "\u001b[0;31mAttributeError\u001b[0m                            Traceback (most recent call last)",
      "\u001b[0;32m<ipython-input-2-e57c2e48aa15>\u001b[0m in \u001b[0;36m<module>\u001b[0;34m\u001b[0m\n\u001b[1;32m     41\u001b[0m \u001b[0mprint\u001b[0m\u001b[0;34m(\u001b[0m\u001b[0;34m\"promedio\"\u001b[0m\u001b[0;34m,\u001b[0m\u001b[0mdescriptive_stadistic\u001b[0m\u001b[0;34m(\u001b[0m\u001b[0mpromedio\u001b[0m\u001b[0;34m)\u001b[0m\u001b[0;34m)\u001b[0m\u001b[0;34m\u001b[0m\u001b[0;34m\u001b[0m\u001b[0m\n\u001b[1;32m     42\u001b[0m \u001b[0;31m#histograma\u001b[0m\u001b[0;34m\u001b[0m\u001b[0;34m\u001b[0m\u001b[0;34m\u001b[0m\u001b[0m\n\u001b[0;32m---> 43\u001b[0;31m \u001b[0mplt\u001b[0m\u001b[0;34m.\u001b[0m\u001b[0mhist\u001b[0m\u001b[0;34m(\u001b[0m\u001b[0medad\u001b[0m\u001b[0;34m)\u001b[0m\u001b[0;34m\u001b[0m\u001b[0;34m\u001b[0m\u001b[0m\n\u001b[0m\u001b[1;32m     44\u001b[0m \u001b[0mplt\u001b[0m\u001b[0;34m.\u001b[0m\u001b[0mshow\u001b[0m\u001b[0;34m(\u001b[0m\u001b[0;34m)\u001b[0m\u001b[0;34m\u001b[0m\u001b[0;34m\u001b[0m\u001b[0m\n",
      "\u001b[0;32m/opt/conda/lib/python3.7/site-packages/matplotlib/_api/__init__.py\u001b[0m in \u001b[0;36m__getattr__\u001b[0;34m(name)\u001b[0m\n\u001b[1;32m    221\u001b[0m             \u001b[0;32mreturn\u001b[0m \u001b[0mprops\u001b[0m\u001b[0;34m[\u001b[0m\u001b[0mname\u001b[0m\u001b[0;34m]\u001b[0m\u001b[0;34m.\u001b[0m\u001b[0m__get__\u001b[0m\u001b[0;34m(\u001b[0m\u001b[0minstance\u001b[0m\u001b[0;34m)\u001b[0m\u001b[0;34m\u001b[0m\u001b[0;34m\u001b[0m\u001b[0m\n\u001b[1;32m    222\u001b[0m         raise AttributeError(\n\u001b[0;32m--> 223\u001b[0;31m             f\"module {cls.__module__!r} has no attribute {name!r}\")\n\u001b[0m\u001b[1;32m    224\u001b[0m \u001b[0;34m\u001b[0m\u001b[0m\n\u001b[1;32m    225\u001b[0m     \u001b[0;32mreturn\u001b[0m \u001b[0m__getattr__\u001b[0m\u001b[0;34m\u001b[0m\u001b[0;34m\u001b[0m\u001b[0m\n",
      "\u001b[0;31mAttributeError\u001b[0m: module 'matplotlib' has no attribute 'hist'"
     ]
    }
   ],
   "source": [
    "# Implementa tu respuesta en esta celda\n",
    "edad=open(\"./Archivos/edad.txt\",\"r\",encoding=\"UTF-8\")\n",
    "escolaridad=open(\"./Archivos/escolaridad.txt\",\"r\",encoding=\"UTF-8\")\n",
    "estado=open(\"./Archivos/estado_civil.txt\",\"r\",encoding=\"UTF-8\")\n",
    "estrato=open(\"./Archivos/estrato.txt\",\"r\",encoding=\"UTF-8\")\n",
    "genero=open(\"./Archivos/genero.txt\",\"r\",encoding=\"UTF-8\")\n",
    "promedio=open(\"./Archivos/promedio.txt\",\"r\",encoding=\"UTF-8\")\n",
    "region=open(\"./Archivos/region.txt\",\"r\",encoding=\"UTF-8\")\n",
    "\n",
    "lt=[]\n",
    "t=(edad,escolaridad,estado,estrato,genero,promedio,region)\n",
    "n=0\n",
    "\n",
    "for x in range(1,501):\n",
    "    for n in range(0,7):\n",
    "        for y in (t[n]):\n",
    "            lt.append(y.strip())\n",
    "            break\n",
    "\n",
    "x=[]\n",
    "c=0\n",
    "while(c<=500):\n",
    "    c+=1\n",
    "\n",
    "    for i in lt[0:7]:\n",
    "        lt[0]=int(lt[0])\n",
    "        lt[3]=int(lt[3])\n",
    "        lt[5]=float(lt[5])\n",
    "        \n",
    "\n",
    "    tupla1=(c,lt[0],lt[1],lt[2],lt[3],lt[4],lt[5],lt[6])\n",
    "    x.append(tupla1)\n",
    "\n",
    "    \n",
    "    lt.pop(0)\n",
    "    lt.pop(0)\n",
    "    lt.pop(0)\n",
    "    lt.pop(0)\n",
    "    lt.pop(0)\n",
    "    lt.pop(0)\n",
    "    lt.pop(0)\n",
    "\n",
    "    if(c==500):\n",
    "        break\n",
    "\n",
    "media_edad=0\n",
    "media_estrato=0\n",
    "media_promedio=0\n",
    "for a,b,c,d,e,f,g,h in x:\n",
    "    media_edad=media_edad+b\n",
    "    media_estrato=media_estrato+e\n",
    "    media_promedio+=g\n",
    "media_edad=round(media_edad/500)\n",
    "media_estrato=round(media_estrato/500)\n",
    "media_promedio=(media_promedio/500)\n",
    "media_promedio=round(media_promedio,2)\n",
    "print(\"La media de la edad es: \",media_edad,\"\\n La media del estrato es: \",media_estrato,\"\\n La media del promedio es: \",media_promedio)"
   ]
  },
  {
   "cell_type": "markdown",
   "metadata": {},
   "source": [
    "## Referencias"
   ]
  },
  {
   "cell_type": "markdown",
   "metadata": {},
   "source": [
    "* Discriminación Positiva<br>\n",
    "https://es.wikipedia.org/wiki/Discriminaci%C3%B3n_positiva\n",
    "* Análisis de formulación del programa “Ser Pilo Paga”<br>\n",
    "https://repository.urosario.edu.co/handle/10336/12526\n",
    "* La acción afirmativa en la Universidad de los Andes: El caso del programa \"Oportunidades para talentos nacionales\"<br> http://www.scielo.org.co/scielo.php?script=sci_arttext&pid=S0123-885X2004000300005\n",
    "* Acción afirmativa y equidad: un análisis desde la propuesta de Thomas Nagel<br>\n",
    "http://www.scielo.org.mx/scielo.php?script=sci_arttext&pid=S2007-24062016000200049"
   ]
  },
  {
   "cell_type": "markdown",
   "metadata": {},
   "source": [
    "## Créditos"
   ]
  },
  {
   "cell_type": "markdown",
   "metadata": {},
   "source": [
    "__Autores__: Camilo Hernando Gómez Castro, Alejandro Mantilla Redondo, Diego Alejandro Cely Gómez.\n",
    " \n",
    "__Fecha última actualización__: 11/07/2022"
   ]
  }
 ],
 "metadata": {
  "kernelspec": {
   "display_name": "Python 3.10.5 64-bit",
   "language": "python",
   "name": "python3"
  },
  "language_info": {
   "codemirror_mode": {
    "name": "ipython",
    "version": 3
   },
   "file_extension": ".py",
   "mimetype": "text/x-python",
   "name": "python",
   "nbconvert_exporter": "python",
   "pygments_lexer": "ipython3",
   "version": "3.10.5"
  },
  "vscode": {
   "interpreter": {
    "hash": "2744d7c08379aa66a7c4fdc7206f630f4e8e6a95c12d01d25214b622fde2cd6c"
   }
  }
 },
 "nbformat": 4,
 "nbformat_minor": 1
}
